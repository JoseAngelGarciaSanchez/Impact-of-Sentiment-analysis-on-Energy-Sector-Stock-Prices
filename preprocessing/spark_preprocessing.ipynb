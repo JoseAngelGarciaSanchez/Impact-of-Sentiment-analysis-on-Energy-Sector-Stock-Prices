{
 "cells": [
  {
   "cell_type": "code",
   "execution_count": 1,
   "metadata": {},
   "outputs": [],
   "source": [
    "from pyspark.sql import SparkSession\n",
    "from pyspark.sql.functions import *\n",
    "from pyspark.sql.types import *\n",
    "from pyspark.sql import functions as F\n",
    "#from textblob import TextBlob"
   ]
  },
  {
   "cell_type": "code",
   "execution_count": 2,
   "metadata": {},
   "outputs": [
    {
     "name": "stdout",
     "output_type": "stream",
     "text": [
      "23/01/25 17:00:04 WARN Utils: Your hostname, MacBook-Air-de-Sarra.local resolves to a loopback address: 127.0.0.1; using 172.20.10.7 instead (on interface en0)\n",
      "23/01/25 17:00:04 WARN Utils: Set SPARK_LOCAL_IP if you need to bind to another address\n"
     ]
    },
    {
     "name": "stderr",
     "output_type": "stream",
     "text": [
      "Setting default log level to \"WARN\".\n",
      "To adjust logging level use sc.setLogLevel(newLevel). For SparkR, use setLogLevel(newLevel).\n"
     ]
    },
    {
     "name": "stdout",
     "output_type": "stream",
     "text": [
      "23/01/25 17:00:05 WARN NativeCodeLoader: Unable to load native-hadoop library for your platform... using builtin-java classes where applicable\n"
     ]
    },
    {
     "name": "stderr",
     "output_type": "stream",
     "text": [
      "                                                                                \r"
     ]
    }
   ],
   "source": [
    "spark = SparkSession.builder.appName(\"CSVtoTable\").getOrCreate()\n",
    "\n",
    "df = (spark.read.format(\"csv\")\n",
    ".option('mode','DROPMALFORMED')\n",
    ".options(header = True, inferSchema = True, sep=\",\",multiLine=True)\n",
    ".load(\"/Users/sarrabenyahia/Documents/GitHub/Twitter-WebScraping/webscraped_VALERO_ENERGY_CORP.csv\")\n",
    ".cache()) # Keep the dataframe in memory for faster processing "
   ]
  },
  {
   "cell_type": "code",
   "execution_count": 3,
   "metadata": {},
   "outputs": [],
   "source": [
    "#Cleaning des données\n",
    "\n",
    "#Dates\n",
    "df = df.na.fill(0, subset=['ReplyCount','RetweetCount','LikeCount'])\n",
    "#Fillna de reply, retweet et like en à\n",
    "\n",
    "df = df.select(*[col(c).cast(\"integer\").alias(c) if c in ['ReplyCount','RetweetCount','LikeCount'] else c for c in df.columns])\n",
    "df = df.withColumn(\"PostDate\", to_date(df[\"PostDate\"]))\n",
    "\n",
    "#Cleaning du texte\n",
    "df = df.withColumn(\"TweetText\", trim(regexp_replace(\"TweetText\", \"[\\n]+\", \" \")))\n",
    "df = df.withColumn(\"TweetText\", trim(regexp_replace(\"TweetText\", \"https?://[^ ]+\", \"\")))\n",
    "df = df.withColumn(\"TweetText\", trim(regexp_replace(\"TweetText\", \"@[^ ]+\", \"\")))\n",
    "df = df.withColumn(\"TweetText\", trim(regexp_replace(\"TweetText\", \"#[^ ]+\", \"\")))\n",
    "df = df.withColumn(\"TweetText\", trim(regexp_replace(\"TweetText\", \"[^A-Za-z0-9 ]\", \"\")))\n",
    "df = df.withColumn(\"TweetText\", regexp_extract(\"TweetText\", \"(2021|2017|2018|2019|2020|2022).*\", 0))\n",
    "df = df.withColumn(\"TweetText\", regexp_replace(\"TweetText\", \"[^a-zA-Z\\\\s]\", \"\"))\n",
    "df = df.na.drop(subset=\"TweetText\") \n",
    "\n",
    "#On enlève le @ du handle\n",
    "df = df.withColumn(\"Handle\", trim(regexp_replace(\"Handle\", \"@\", \"\")))"
   ]
  },
  {
   "cell_type": "code",
   "execution_count": 4,
   "metadata": {},
   "outputs": [
    {
     "data": {
      "text/plain": [
       "' \\nA ajouter en spark : \\n\\n# Repeating words like hurrrryyyyyy\\nrpt_regex = re.compile(r\"(.)\\x01{1,}\", re.IGNORECASE);\\ndef rpt_repl(match):\\n\\treturn match.group(1)+match.group(1)\\n\\n\\ndef remove_na(self, tweets):\\n\\treturn tweets[tweets[\"text\"] != \"Not Available\"]\\n\\ndef remove_special_chars(self, tweets):  # it unrolls the hashtags to normal words\\n\\tfor remove in map(lambda r: regex.compile(regex.escape(r)), [\",\", \":\", \"\"\", \"=\", \"&\", \";\", \"%\", \"$\",\\n\\t\\t\\t\\t\\t\\t\\t\\t\\t\\t\\t\\t\\t\\t\\t\\t\\t\"@\", \"%\", \"^\", \"*\", \"(\", \")\", \"{\", \"}\",\\n\\t\\t\\t\\t\\t\\t\\t\\t\\t\\t\\t\\t\\t\\t\\t\\t\\t\"[\", \"]\", \"|\", \"/\", \"\\\\\", \">\", \"<\", \"-\",\\n\\t\\t\\t\\t\\t\\t\\t\\t\\t\\t\\t\\t\\t\\t\\t\\t\\t\"!\", \"?\", \".\", \"\\'\",\\n\\t\\t\\t\\t\\t\\t\\t\\t\\t\\t\\t\\t\\t\\t\\t\\t\\t\"--\", \"---\", \"#\"]):\\n\\t\\ttweets.loc[:, \"text\"].replace(remove, \"\", inplace=True)\\n\\treturn tweets\\n\\n\\n'"
      ]
     },
     "execution_count": 4,
     "metadata": {},
     "output_type": "execute_result"
    }
   ],
   "source": [
    "\"\"\" \n",
    "A ajouter en spark : \n",
    "\n",
    "# Repeating words like hurrrryyyyyy\n",
    "rpt_regex = re.compile(r\"(.)\\1{1,}\", re.IGNORECASE);\n",
    "def rpt_repl(match):\n",
    "\treturn match.group(1)+match.group(1)\n",
    "\n",
    "def remove_special_chars(self, tweets):  # it unrolls the hashtags to normal words\n",
    "\tfor remove in map(lambda r: regex.compile(regex.escape(r)), [\",\", \":\", \"\\\"\", \"=\", \"&\", \";\", \"%\", \"$\",\n",
    "\t\t\t\t\t\t\t\t\t\t\t\t\t\t\t\t\t\"@\", \"%\", \"^\", \"*\", \"(\", \")\", \"{\", \"}\",\n",
    "\t\t\t\t\t\t\t\t\t\t\t\t\t\t\t\t\t\"[\", \"]\", \"|\", \"/\", \"\\\\\", \">\", \"<\", \"-\",\n",
    "\t\t\t\t\t\t\t\t\t\t\t\t\t\t\t\t\t\"!\", \"?\", \".\", \"'\",\n",
    "\t\t\t\t\t\t\t\t\t\t\t\t\t\t\t\t\t\"--\", \"---\", \"#\"]):\n",
    "\t\ttweets.loc[:, \"text\"].replace(remove, \"\", inplace=True)\n",
    "\treturn tweets\n",
    "\n",
    "\n",
    "\"\"\"\n",
    "    "
   ]
  },
  {
   "cell_type": "code",
   "execution_count": 5,
   "metadata": {},
   "outputs": [
    {
     "name": "stdout",
     "output_type": "stream",
     "text": [
      "root\n",
      " |-- User: string (nullable = true)\n",
      " |-- Handle: string (nullable = true)\n",
      " |-- PostDate: date (nullable = true)\n",
      " |-- TweetText: string (nullable = true)\n",
      " |-- ReplyCount: integer (nullable = true)\n",
      " |-- RetweetCount: integer (nullable = true)\n",
      " |-- LikeCount: integer (nullable = true)\n",
      "\n"
     ]
    }
   ],
   "source": [
    "df.printSchema()\n"
   ]
  },
  {
   "cell_type": "code",
   "execution_count": 6,
   "metadata": {},
   "outputs": [
    {
     "data": {
      "text/plain": [
       "[('User', 'string'),\n",
       " ('Handle', 'string'),\n",
       " ('PostDate', 'date'),\n",
       " ('TweetText', 'string'),\n",
       " ('ReplyCount', 'int'),\n",
       " ('RetweetCount', 'int'),\n",
       " ('LikeCount', 'int')]"
      ]
     },
     "execution_count": 6,
     "metadata": {},
     "output_type": "execute_result"
    }
   ],
   "source": [
    "df.dtypes\n"
   ]
  },
  {
   "cell_type": "code",
   "execution_count": 7,
   "metadata": {},
   "outputs": [
    {
     "name": "stderr",
     "output_type": "stream",
     "text": [
      "                                                                                \r"
     ]
    },
    {
     "data": {
      "text/plain": [
       "1813"
      ]
     },
     "execution_count": 7,
     "metadata": {},
     "output_type": "execute_result"
    }
   ],
   "source": [
    "df.count()"
   ]
  },
  {
   "cell_type": "code",
   "execution_count": 8,
   "metadata": {},
   "outputs": [
    {
     "name": "stdout",
     "output_type": "stream",
     "text": [
      "+--------------------+---------------+----------+--------------------+----------+------------+---------+\n",
      "|                User|         Handle|  PostDate|           TweetText|ReplyCount|RetweetCount|LikeCount|\n",
      "+--------------------+---------------+----------+--------------------+----------+------------+---------+\n",
      "|        Utah Hamrick|       uhamrick|2021-09-25|Playing an outdoo...|      null|        null|        1|\n",
      "|        BIC Magazine|    BICMagazine|2021-09-20|With  years of ex...|      null|        null|        1|\n",
      "|AJ Blackston - Fi...|    AJBlackston|2021-09-17|VALERO ENERGY COR...|      null|        null|     null|\n",
      "|      stocksoftheday|stocksoftheday1|2021-09-13|VLO Valero Energy...|      null|        null|     null|\n",
      "|     Market Engineer|_MarketEngineer|2021-09-11|VLO Valero Energy...|      null|        null|     null|\n",
      "|AJ Blackston - Fi...|    AJBlackston|2021-09-09|VALERO ENERGY COR...|      null|        null|     null|\n",
      "|           Spot Etal|       EtalSpot|2021-09-08| While Pizza Hut ...|         1|           2|        2|\n",
      "|      stocksoftheday|stocksoftheday1|2021-09-07|VLO Valero Energy...|      null|        null|     null|\n",
      "|     Cheryl Mckinley|CherylMckinle20|2021-09-04|Replying to    an...|      null|        null|     null|\n",
      "|          Javidendos|         jaav19|2021-09-02|XOM ExxonMobil Co...|      null|        null|     null|\n",
      "|      stocksoftheday|stocksoftheday1|2021-09-01|VLO Valero Energy...|      null|        null|     null|\n",
      "|               OlegT|     Oleg_T1980|2021-08-30|     Valero Energ...|      null|        null|     null|\n",
      "|      @Cbonds_Global|  Cbonds_Global|2021-08-27|Valero Energy Cor...|      null|           1|        1|\n",
      "|Vichy Trump du Putin|BrettaApplebaum|2021-08-24|Replying to   Che...|      null|        null|        2|\n",
      "|      stocksoftheday|stocksoftheday1|2021-08-23|VLO Valero Energy...|      null|        null|     null|\n",
      "|EIN Presswire: Pe...|   EINPepsiNews|2021-08-20|First National Ba...|      null|        null|     null|\n",
      "|    Сергей Самарский|       Serge_63|2021-08-07|  Chevron Corp  V...|      null|        null|     null|\n",
      "|  Investing.com News|  newsinvesting|2021-07-31|Barclays Stick to...|      null|        null|     null|\n",
      "|  Biodiesel Magazine|   BiodieselMag|2021-07-30|Valero Energy Cor...|      null|        null|     null|\n",
      "|Ethanol Producer Mag|EthanolMagazine|2021-07-30|Valero Energy Cor...|      null|        null|     null|\n",
      "+--------------------+---------------+----------+--------------------+----------+------------+---------+\n",
      "only showing top 20 rows\n",
      "\n"
     ]
    }
   ],
   "source": [
    "df.show()"
   ]
  },
  {
   "cell_type": "code",
   "execution_count": 9,
   "metadata": {},
   "outputs": [
    {
     "name": "stdout",
     "output_type": "stream",
     "text": [
      "+----------+-----+\n",
      "|ReplyCount|count|\n",
      "+----------+-----+\n",
      "|      null| 1773|\n",
      "|         1|   35|\n",
      "|         3|    1|\n",
      "|         4|    1|\n",
      "|         2|    3|\n",
      "+----------+-----+\n",
      "\n"
     ]
    }
   ],
   "source": [
    "df.groupBy(\"ReplyCount\").count().show()"
   ]
  },
  {
   "cell_type": "code",
   "execution_count": 10,
   "metadata": {},
   "outputs": [
    {
     "name": "stdout",
     "output_type": "stream",
     "text": [
      "+------------+-----+\n",
      "|RetweetCount|count|\n",
      "+------------+-----+\n",
      "|          31|    1|\n",
      "|          12|    1|\n",
      "|        null| 1710|\n",
      "|           1|   62|\n",
      "|           6|    2|\n",
      "|           3|    5|\n",
      "|           5|    2|\n",
      "|          15|    1|\n",
      "|          17|    2|\n",
      "|           4|    4|\n",
      "|           7|    2|\n",
      "|          11|    1|\n",
      "|          14|    1|\n",
      "|           2|   19|\n",
      "+------------+-----+\n",
      "\n"
     ]
    }
   ],
   "source": [
    "df.groupBy(\"RetweetCount\").count().show()"
   ]
  },
  {
   "cell_type": "code",
   "execution_count": 11,
   "metadata": {},
   "outputs": [
    {
     "name": "stdout",
     "output_type": "stream",
     "text": [
      "+---------+-----+\n",
      "|LikeCount|count|\n",
      "+---------+-----+\n",
      "|       12|    2|\n",
      "|     null| 1692|\n",
      "|        1|   58|\n",
      "|       16|    1|\n",
      "|        6|    2|\n",
      "|        3|   13|\n",
      "|        5|    5|\n",
      "|       19|    1|\n",
      "|       17|    1|\n",
      "|        4|   12|\n",
      "|        7|    2|\n",
      "|       10|    2|\n",
      "|       32|    1|\n",
      "|       14|    1|\n",
      "|        2|   20|\n",
      "+---------+-----+\n",
      "\n"
     ]
    }
   ],
   "source": [
    "df.groupBy(\"LikeCount\").count().show()\n",
    "#ponderer le poids du sentiment par rapport au nombre de like"
   ]
  },
  {
   "cell_type": "code",
   "execution_count": null,
   "metadata": {},
   "outputs": [],
   "source": []
  }
 ],
 "metadata": {
  "kernelspec": {
   "display_name": ".env",
   "language": "python",
   "name": "python3"
  },
  "language_info": {
   "codemirror_mode": {
    "name": "ipython",
    "version": 3
   },
   "file_extension": ".py",
   "mimetype": "text/x-python",
   "name": "python",
   "nbconvert_exporter": "python",
   "pygments_lexer": "ipython3",
   "version": "3.10.0 (v3.10.0:b494f5935c, Oct  4 2021, 14:59:19) [Clang 12.0.5 (clang-1205.0.22.11)]"
  },
  "orig_nbformat": 4,
  "vscode": {
   "interpreter": {
    "hash": "687dc5070c05263eefdf1cb674d874fd4561c124bab554d073291bd51bb80ead"
   }
  }
 },
 "nbformat": 4,
 "nbformat_minor": 2
}
