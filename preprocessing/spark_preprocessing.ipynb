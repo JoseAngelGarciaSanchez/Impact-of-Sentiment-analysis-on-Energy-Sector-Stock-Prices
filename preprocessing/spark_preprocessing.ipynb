{
 "cells": [
  {
   "cell_type": "code",
   "execution_count": 3,
   "metadata": {},
   "outputs": [],
   "source": [
    "from pyspark.sql import SparkSession\n",
    "from pyspark.sql.functions import *\n",
    "from pyspark.sql.types import *\n",
    "from pyspark.sql import functions as F\n",
    "#from textblob import TextBlob"
   ]
  },
  {
   "cell_type": "code",
   "execution_count": 5,
   "metadata": {},
   "outputs": [],
   "source": [
    "spark = SparkSession.builder.appName(\"CSVtoTable\").getOrCreate()\n",
    "\n",
    "df = (spark.read.format(\"csv\")\n",
    ".option('mode','DROPMALFORMED')\n",
    ".options(header = True, inferSchema = True, sep=\",\",multiLine=True)\n",
    ".load(\"./../data/webscraped_WESTROCK_CO.csv\")\n",
    ".cache()) # Keep the dataframe in memory for faster processing "
   ]
  },
  {
   "cell_type": "code",
   "execution_count": 6,
   "metadata": {},
   "outputs": [],
   "source": [
    "#Cleaning des données\n",
    "\n",
    "#Dates\n",
    "df = df.na.fill(0, subset=['ReplyCount','RetweetCount','LikeCount'])\n",
    "#Fillna de reply, retweet et like en à\n",
    "\n",
    "df = df.select(*[col(c).cast(\"integer\").alias(c) if c in ['ReplyCount','RetweetCount','LikeCount'] else c for c in df.columns])\n",
    "df = df.withColumn(\"PostDate\", to_date(df[\"PostDate\"]))\n",
    "\n",
    "#Cleaning du texte\n",
    "df = df.withColumn(\"TweetText\", trim(regexp_replace(\"TweetText\", \"[\\n]+\", \" \")))\n",
    "df = df.withColumn(\"TweetText\", trim(regexp_replace(\"TweetText\", \"https?://[^ ]+\", \"\")))\n",
    "df = df.withColumn(\"TweetText\", trim(regexp_replace(\"TweetText\", \"@[^ ]+\", \"\")))\n",
    "df = df.withColumn(\"TweetText\", trim(regexp_replace(\"TweetText\", \"#[^ ]+\", \"\")))\n",
    "df = df.withColumn(\"TweetText\", trim(regexp_replace(\"TweetText\", \"[^A-Za-z0-9 ]\", \"\")))\n",
    "df = df.withColumn(\"TweetText\", regexp_extract(\"TweetText\", \"(2021|2017|2018|2019|2020|2022).*\", 0))\n",
    "df = df.withColumn(\"TweetText\", regexp_replace(\"TweetText\", \"[^a-zA-Z\\\\s]\", \"\"))\n",
    "df = df.na.drop(subset=\"TweetText\") \n",
    "\n",
    "#On enlève le @ du handle\n",
    "df = df.withColumn(\"Handle\", trim(regexp_replace(\"Handle\", \"@\", \"\")))"
   ]
  },
  {
   "cell_type": "code",
   "execution_count": 7,
   "metadata": {},
   "outputs": [
    {
     "data": {
      "text/plain": [
       "' \\nA ajouter en spark : \\n\\n# Repeating words like hurrrryyyyyy\\nrpt_regex = re.compile(r\"(.)\\x01{1,}\", re.IGNORECASE);\\ndef rpt_repl(match):\\n\\treturn match.group(1)+match.group(1)\\n\\ndef remove_special_chars(self, tweets):  # it unrolls the hashtags to normal words\\n\\tfor remove in map(lambda r: regex.compile(regex.escape(r)), [\",\", \":\", \"\"\", \"=\", \"&\", \";\", \"%\", \"$\",\\n\\t\\t\\t\\t\\t\\t\\t\\t\\t\\t\\t\\t\\t\\t\\t\\t\\t\"@\", \"%\", \"^\", \"*\", \"(\", \")\", \"{\", \"}\",\\n\\t\\t\\t\\t\\t\\t\\t\\t\\t\\t\\t\\t\\t\\t\\t\\t\\t\"[\", \"]\", \"|\", \"/\", \"\\\\\", \">\", \"<\", \"-\",\\n\\t\\t\\t\\t\\t\\t\\t\\t\\t\\t\\t\\t\\t\\t\\t\\t\\t\"!\", \"?\", \".\", \"\\'\",\\n\\t\\t\\t\\t\\t\\t\\t\\t\\t\\t\\t\\t\\t\\t\\t\\t\\t\"--\", \"---\", \"#\"]):\\n\\t\\ttweets.loc[:, \"text\"].replace(remove, \"\", inplace=True)\\n\\treturn tweets\\n\\n\\n'"
      ]
     },
     "execution_count": 7,
     "metadata": {},
     "output_type": "execute_result"
    }
   ],
   "source": [
    "\"\"\" \n",
    "A ajouter en spark : \n",
    "\n",
    "# Repeating words like hurrrryyyyyy\n",
    "rpt_regex = re.compile(r\"(.)\\1{1,}\", re.IGNORECASE);\n",
    "def rpt_repl(match):\n",
    "\treturn match.group(1)+match.group(1)\n",
    "\n",
    "def remove_special_chars(self, tweets):  # it unrolls the hashtags to normal words\n",
    "\tfor remove in map(lambda r: regex.compile(regex.escape(r)), [\",\", \":\", \"\\\"\", \"=\", \"&\", \";\", \"%\", \"$\",\n",
    "\t\t\t\t\t\t\t\t\t\t\t\t\t\t\t\t\t\"@\", \"%\", \"^\", \"*\", \"(\", \")\", \"{\", \"}\",\n",
    "\t\t\t\t\t\t\t\t\t\t\t\t\t\t\t\t\t\"[\", \"]\", \"|\", \"/\", \"\\\\\", \">\", \"<\", \"-\",\n",
    "\t\t\t\t\t\t\t\t\t\t\t\t\t\t\t\t\t\"!\", \"?\", \".\", \"'\",\n",
    "\t\t\t\t\t\t\t\t\t\t\t\t\t\t\t\t\t\"--\", \"---\", \"#\"]):\n",
    "\t\ttweets.loc[:, \"text\"].replace(remove, \"\", inplace=True)\n",
    "\treturn tweets\n",
    "\n",
    "\n",
    "\"\"\"\n",
    "    "
   ]
  },
  {
   "cell_type": "code",
   "execution_count": 8,
   "metadata": {},
   "outputs": [
    {
     "name": "stdout",
     "output_type": "stream",
     "text": [
      "root\n",
      " |-- User: string (nullable = true)\n",
      " |-- Handle: string (nullable = true)\n",
      " |-- PostDate: date (nullable = true)\n",
      " |-- TweetText: string (nullable = true)\n",
      " |-- ReplyCount: integer (nullable = true)\n",
      " |-- RetweetCount: integer (nullable = true)\n",
      " |-- LikeCount: integer (nullable = true)\n",
      "\n"
     ]
    }
   ],
   "source": [
    "df.printSchema()\n"
   ]
  },
  {
   "cell_type": "code",
   "execution_count": 9,
   "metadata": {},
   "outputs": [
    {
     "data": {
      "text/plain": [
       "[('User', 'string'),\n",
       " ('Handle', 'string'),\n",
       " ('PostDate', 'date'),\n",
       " ('TweetText', 'string'),\n",
       " ('ReplyCount', 'int'),\n",
       " ('RetweetCount', 'int'),\n",
       " ('LikeCount', 'int')]"
      ]
     },
     "execution_count": 9,
     "metadata": {},
     "output_type": "execute_result"
    }
   ],
   "source": [
    "df.dtypes\n"
   ]
  },
  {
   "cell_type": "code",
   "execution_count": 10,
   "metadata": {},
   "outputs": [
    {
     "data": {
      "text/plain": [
       "4"
      ]
     },
     "execution_count": 10,
     "metadata": {},
     "output_type": "execute_result"
    }
   ],
   "source": [
    "df.count()"
   ]
  },
  {
   "cell_type": "code",
   "execution_count": 11,
   "metadata": {},
   "outputs": [
    {
     "name": "stdout",
     "output_type": "stream",
     "text": [
      "+----------------+--------------+----------+--------------------+----------+------------+---------+\n",
      "|            User|        Handle|  PostDate|           TweetText|ReplyCount|RetweetCount|LikeCount|\n",
      "+----------------+--------------+----------+--------------------+----------+------------+---------+\n",
      "|   Kwhen Finance|  kwhenfinance|2022-09-24|WestRock Co Share...|         0|        null|        0|\n",
      "|True Market News|TrueMarketNews|2022-09-22|WestRock Co WRK W...|         1|        null|        2|\n",
      "|   Kwhen Finance|  kwhenfinance|2022-09-22|WestRock Co Share...|         0|        null|        0|\n",
      "|   Investor News|  newsfilterio|2022-09-22|WEST Stephens  Co...|         0|        null|        0|\n",
      "+----------------+--------------+----------+--------------------+----------+------------+---------+\n",
      "\n"
     ]
    }
   ],
   "source": [
    "df.show()"
   ]
  },
  {
   "cell_type": "code",
   "execution_count": 12,
   "metadata": {},
   "outputs": [
    {
     "name": "stdout",
     "output_type": "stream",
     "text": [
      "+----------+-----+\n",
      "|ReplyCount|count|\n",
      "+----------+-----+\n",
      "|         1|    1|\n",
      "|         0|    3|\n",
      "+----------+-----+\n",
      "\n"
     ]
    }
   ],
   "source": [
    "df.groupBy(\"ReplyCount\").count().show()"
   ]
  },
  {
   "cell_type": "code",
   "execution_count": 13,
   "metadata": {},
   "outputs": [
    {
     "name": "stdout",
     "output_type": "stream",
     "text": [
      "+------------+-----+\n",
      "|RetweetCount|count|\n",
      "+------------+-----+\n",
      "|        null|    4|\n",
      "+------------+-----+\n",
      "\n"
     ]
    }
   ],
   "source": [
    "df.groupBy(\"RetweetCount\").count().show()"
   ]
  },
  {
   "cell_type": "code",
   "execution_count": 14,
   "metadata": {},
   "outputs": [
    {
     "name": "stdout",
     "output_type": "stream",
     "text": [
      "+---------+-----+\n",
      "|LikeCount|count|\n",
      "+---------+-----+\n",
      "|        2|    1|\n",
      "|        0|    3|\n",
      "+---------+-----+\n",
      "\n"
     ]
    }
   ],
   "source": [
    "df.groupBy(\"LikeCount\").count().show()\n",
    "#ponderer le poids du sentiment par rapport au nombre de like"
   ]
  },
  {
   "cell_type": "code",
   "execution_count": null,
   "metadata": {},
   "outputs": [],
   "source": []
  }
 ],
 "metadata": {
  "kernelspec": {
   "display_name": ".env",
   "language": "python",
   "name": "python3"
  },
  "language_info": {
   "codemirror_mode": {
    "name": "ipython",
    "version": 3
   },
   "file_extension": ".py",
   "mimetype": "text/x-python",
   "name": "python",
   "nbconvert_exporter": "python",
   "pygments_lexer": "ipython3",
   "version": "3.9.12"
  },
  "orig_nbformat": 4,
  "vscode": {
   "interpreter": {
    "hash": "c3a8cfffa89370a3a770b095a4687fe16f795a4c0a8eaff788773dea1d0a5278"
   }
  }
 },
 "nbformat": 4,
 "nbformat_minor": 2
}
