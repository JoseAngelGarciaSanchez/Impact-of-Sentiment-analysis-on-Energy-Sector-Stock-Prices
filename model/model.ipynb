{
 "cells": [
  {
   "cell_type": "code",
   "execution_count": 1,
   "metadata": {},
   "outputs": [
    {
     "name": "stderr",
     "output_type": "stream",
     "text": [
      "/Users/sarrabenyahia/Library/Python/3.9/lib/python/site-packages/tqdm/auto.py:22: TqdmWarning: IProgress not found. Please update jupyter and ipywidgets. See https://ipywidgets.readthedocs.io/en/stable/user_install.html\n",
      "  from .autonotebook import tqdm as notebook_tqdm\n",
      "Downloading (…)okenizer_config.json: 100%|██████████| 252/252 [00:00<00:00, 43.0kB/s]\n",
      "Downloading (…)lve/main/config.json: 100%|██████████| 758/758 [00:00<00:00, 93.1kB/s]\n",
      "Downloading (…)solve/main/vocab.txt: 100%|██████████| 232k/232k [00:00<00:00, 495kB/s]\n",
      "Downloading (…)cial_tokens_map.json: 100%|██████████| 112/112 [00:00<00:00, 22.3kB/s]\n",
      "Downloading (…)\"pytorch_model.bin\";: 100%|██████████| 438M/438M [00:18<00:00, 23.7MB/s] \n"
     ]
    }
   ],
   "source": [
    "from transformers import pipeline\n",
    "from transformers import AutoTokenizer, AutoModelForSequenceClassification\n",
    "\n",
    "tokenizer = AutoTokenizer.from_pretrained(\"ProsusAI/finbert\")\n",
    "\n",
    "model = AutoModelForSequenceClassification.from_pretrained(\"ProsusAI/finbert\")\n"
   ]
  },
  {
   "cell_type": "code",
   "execution_count": 3,
   "metadata": {},
   "outputs": [],
   "source": [
    "import pandas as pd\n",
    "from transformers import pipeline\n",
    "\n",
    "\n",
    "tokenizer = AutoTokenizer.from_pretrained(\"ProsusAI/finbert\")\n",
    "\n",
    "model = AutoModelForSequenceClassification.from_pretrained(\"ProsusAI/finbert\")\n",
    "\n",
    "# Load your dataframe\n",
    "df = pd.read_csv(\"/Users/sarrabenyahia/Documents/GitHub/overperforming-58-energy-stocks/webscraped_FMC_CORP3.csv\")\n",
    "\n",
    "# Create the sentiment analysis pipeline\n",
    "nlp = pipeline(\"sentiment-analysis\", model=\"ProsusAI/finbert\", tokenizer=\"tarnformnet/Stock-Sentiment-BERT\")\n",
    "\n",
    "# Using map function\n",
    "df[\"sentiment\"] = df[\"TweetText\"].map(lambda x: nlp(x)[0]['label'])\n",
    "\n",
    "# Save the dataframe with the new column\n",
    "df.to_csv(\"/Users/sarrabenyahia/Documents/GitHub/overperforming-58-energy-stocks/dataframe.csv\", index=False)\n"
   ]
  },
  {
   "cell_type": "code",
   "execution_count": 9,
   "metadata": {},
   "outputs": [
    {
     "name": "stdout",
     "output_type": "stream",
     "text": [
      "Bullish    2005\n",
      "Bearish     248\n",
      "Name: sentiment, dtype: int64 neutral     1080\n",
      "negative     656\n",
      "positive     517\n",
      "Name: sentiment_base, dtype: int64\n"
     ]
    }
   ],
   "source": [
    "df = pd.read_csv(\"/Users/sarrabenyahia/Documents/GitHub/overperforming-58-energy-stocks/model/model_df/model.csv\")\n",
    "print(df['sentiment'].value_counts(),\n",
    "df['sentiment_base'].value_counts())"
   ]
  },
  {
   "cell_type": "code",
   "execution_count": 12,
   "metadata": {},
   "outputs": [],
   "source": [
    "df_bearish = df[df['sentiment']==\"Bearish\"]"
   ]
  },
  {
   "cell_type": "code",
   "execution_count": 16,
   "metadata": {},
   "outputs": [
    {
     "data": {
      "text/plain": [
       "neutral     0.455645\n",
       "negative    0.326613\n",
       "positive    0.217742\n",
       "Name: sentiment_base, dtype: float64"
      ]
     },
     "execution_count": 16,
     "metadata": {},
     "output_type": "execute_result"
    }
   ],
   "source": [
    "df_bearish[\"sentiment_base\"].value_counts(normalize=True)"
   ]
  },
  {
   "cell_type": "code",
   "execution_count": 15,
   "metadata": {},
   "outputs": [
    {
     "data": {
      "text/plain": [
       "neutral     0.482294\n",
       "negative    0.286783\n",
       "positive    0.230923\n",
       "Name: sentiment_base, dtype: float64"
      ]
     },
     "execution_count": 15,
     "metadata": {},
     "output_type": "execute_result"
    }
   ],
   "source": [
    "df_bull = df[df['sentiment']==\"Bullish\"]\n",
    "df_bull[\"sentiment_base\"].value_counts(normalize=True)"
   ]
  },
  {
   "cell_type": "code",
   "execution_count": null,
   "metadata": {},
   "outputs": [],
   "source": []
  }
 ],
 "metadata": {
  "kernelspec": {
   "display_name": "Python 3",
   "language": "python",
   "name": "python3"
  },
  "language_info": {
   "codemirror_mode": {
    "name": "ipython",
    "version": 3
   },
   "file_extension": ".py",
   "mimetype": "text/x-python",
   "name": "python",
   "nbconvert_exporter": "python",
   "pygments_lexer": "ipython3",
   "version": "3.9.6"
  },
  "orig_nbformat": 4,
  "vscode": {
   "interpreter": {
    "hash": "31f2aee4e71d21fbe5cf8b01ff0e069b9275f58929596ceb00d14d90e3e16cd6"
   }
  }
 },
 "nbformat": 4,
 "nbformat_minor": 2
}
