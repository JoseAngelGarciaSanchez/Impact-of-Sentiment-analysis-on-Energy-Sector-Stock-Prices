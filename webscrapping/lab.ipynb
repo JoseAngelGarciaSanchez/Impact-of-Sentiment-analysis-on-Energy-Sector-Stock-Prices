{
 "cells": [
  {
   "cell_type": "code",
   "execution_count": 28,
   "metadata": {},
   "outputs": [
    {
     "name": "stdout",
     "output_type": "stream",
     "text": [
      "None\n"
     ]
    }
   ],
   "source": [
    "import pandas as pd\n",
    "\n",
    "df = pd.read_csv(\"./../data/new_webscrapping/webscraped_bp_plc.csv\")\n",
    "\n",
    "minimal_date = pd.to_datetime(df[\"PostDate\"]).min().date()\n",
    "if pd.notna(minimal_date):\n",
    "    END_DATE = minimal_date\n",
    "else:\n",
    "    END_DATE = None\n",
    "\n",
    "print(END_DATE)"
   ]
  },
  {
   "cell_type": "code",
   "execution_count": 13,
   "metadata": {},
   "outputs": [],
   "source": [
    "import os \n",
    "\n",
    "research = \"bp plc\"\n",
    "save_path = \"./../data/new_webscrapping/\"\n",
    "completed_save_path = f'{save_path}webscraped_{\"_\".join(research.split())}.csv'\n",
    "if not os.path.exists(completed_save_path):\n",
    "    print(\"hello\")"
   ]
  },
  {
   "cell_type": "code",
   "execution_count": 22,
   "metadata": {},
   "outputs": [
    {
     "data": {
      "text/plain": [
       "'./../data/new_webscrapping'"
      ]
     },
     "execution_count": 22,
     "metadata": {},
     "output_type": "execute_result"
    }
   ],
   "source": [
    "os.path.dirname(save_path)"
   ]
  },
  {
   "cell_type": "code",
   "execution_count": 17,
   "metadata": {},
   "outputs": [],
   "source": [
    "os.path.dirname(completed_save_path)\n",
    "open(completed_save_path, \"a\").close()"
   ]
  },
  {
   "cell_type": "code",
   "execution_count": null,
   "metadata": {},
   "outputs": [],
   "source": [
    "from twitter_scrapper import TwitterScrapper\n",
    "\n",
    "from parameters import MAIL, USERNAME, PASSWORD\n",
    "\n",
    "\n",
    "ts = TwitterScrapper(\n",
    "            research=\"bp plc\",\n",
    "            mail=MAIL,\n",
    "            username=USERNAME,\n",
    "            password=PASSWORD,\n",
    "            # start_date=,\n",
    "            end_date='2024-03-12',\n",
    "            verbose=True\n",
    "        )\n",
    "ts.launch_webscrapping(save_path=\"./../data/new_webscrapping/\")"
   ]
  }
 ],
 "metadata": {
  "kernelspec": {
   "display_name": ".env",
   "language": "python",
   "name": "python3"
  },
  "language_info": {
   "codemirror_mode": {
    "name": "ipython",
    "version": 3
   },
   "file_extension": ".py",
   "mimetype": "text/x-python",
   "name": "python",
   "nbconvert_exporter": "python",
   "pygments_lexer": "ipython3",
   "version": "3.11.7"
  }
 },
 "nbformat": 4,
 "nbformat_minor": 2
}
