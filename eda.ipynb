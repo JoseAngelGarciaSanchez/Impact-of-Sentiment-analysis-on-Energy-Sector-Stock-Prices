{
 "cells": [
  {
   "cell_type": "code",
   "execution_count": null,
   "metadata": {},
   "outputs": [],
   "source": []
  },
  {
   "cell_type": "code",
   "execution_count": null,
   "metadata": {},
   "outputs": [],
   "source": []
  },
  {
   "cell_type": "code",
   "execution_count": null,
   "metadata": {},
   "outputs": [],
   "source": []
  },
  {
   "cell_type": "code",
   "execution_count": null,
   "metadata": {},
   "outputs": [],
   "source": [
    "from PIL import Image\n",
    "from wordcloud import WordCloud\n",
    "import matplotlib.pyplot as plt\n",
    "def plot_wordcloud(text, max_words=200, background_image=None, background_color='white', width=800, height=400):\n",
    "    if background_image:\n",
    "        mask = np.array(Image.open(background_image))\n",
    "    wordcloud = WordCloud(width=width, height=height, background_color=background_color, max_words=max_words, collocations=False, mask=mask)\n",
    "    wordcloud.generate(text)\n",
    "    plt.figure(figsize=(10,8))\n",
    "    plt.imshow(wordcloud)\n",
    "    plt.axis(\"off\")\n",
    "    plt.show()\n",
    "\n",
    "\n",
    "plot_wordcloud(\"\".join([str(word) for word in clean_corpus]),background_image=\"/Users/luciegabagnou/Documents/MOSEF/PYTHON/projet_trip_advisor/sentiment-analysis-tripadvisor/TripAdvisor.jpg\")"
   ]
  }
 ],
 "metadata": {
  "language_info": {
   "name": "python"
  },
  "orig_nbformat": 4
 },
 "nbformat": 4,
 "nbformat_minor": 2
}
