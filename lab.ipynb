{
 "cells": [
  {
   "cell_type": "code",
   "execution_count": 6,
   "metadata": {},
   "outputs": [
    {
     "name": "stdout",
     "output_type": "stream",
     "text": [
      "END_DATE: 2022-11-19\n",
      "Observations: 4150\n"
     ]
    }
   ],
   "source": [
    "import pandas as pd\n",
    "\n",
    "\n",
    "df = pd.read_csv(\"./data/new_webscrapping/webscraped_stora_enso.csv\")\n",
    "\n",
    "minimal_date = pd.to_datetime(df[\"PostDate\"]).min().date()\n",
    "if pd.notna(minimal_date):\n",
    "    END_DATE = minimal_date\n",
    "else:\n",
    "    END_DATE = None\n",
    "\n",
    "print(f'END_DATE: {END_DATE}')\n",
    "print(f'Observations: {df.shape[0]}')"
   ]
  },
  {
   "cell_type": "code",
   "execution_count": 46,
   "metadata": {},
   "outputs": [],
   "source": [
    "stocklist = [\n",
    "    \"BP PLC\",\n",
    "    \"FMC CORP\",\n",
    "    \"WEYERHAEUSER CO\",\n",
    "    \"ALTAGAS LTD\",\n",
    "    \"BHP GROUP\",\n",
    "    \"INTERNATIONAL PAPER CO\",\n",
    "    # \"S&P 500 ENERGY INDEX\",\n",
    "    \"STORA ENSO\",\n",
    "    \"WILMAR INTERNATIONAL LTD\",\n",
    "    \"TOTALENERGIES SE\",\n",
    "    # \"UPM-KYMMENE OYJ\",\n",
    "    # \"NEWMONT CORP\",\n",
    "    # \"EXXON MOBIL CORP\",\n",
    "    # \"VALERO ENERGY CORP\",\n",
    "    # \"NUCOR CORP\",\n",
    "    # \"BARRICK GOLD CORP\",\n",
    "    # \"FREEPORT-MCMORAN INC\",\n",
    "    # \"CONOCOPHILLIPS\",\n",
    "    # \"ARCHER-DANIELS-MIDLAND CO\",\n",
    "    # \"POSCO HOLDINGS INC -SPON ADR\",\n",
    "    # \"TECK RESOURCES LTD-CLS B\",\n",
    "    # \"RIO TINTO PLC-SPON ADR\",\n",
    "    # \"MONDI PLC\",\n",
    "    # \"ANGLO AMERICAN PLC\",\n",
    "    # \"CENOVUS ENERGY INC\",\n",
    "    # \"WESTLAKE CORP\",\n",
    "    # \"GLENCORE PLC\",\n",
    "    # \"MOSAIC CO/THE\",\n",
    "    # \"MARATHON PETROLEUM CORP\",\n",
    "    # \"PHILLIPS 66\",\n",
    "    # \"ENERGY TRANSFER LP\",\n",
    "    # \"VIPER ENERGY PARTNERS LP\",\n",
    "    # \"SUNOCO LP\",\n",
    "    # \"WESTROCK CO\",\n",
    "    # \"PEMBINA PIPELINE CORP\",\n",
    "    # \"ALCOA CORP\",\n",
    "    # \"ARCELORMITTAL\",\n",
    "    # \"NUTRIEN CT LTD\",\n",
    "    # \"NUTRIEN US LTD\",\n",
    "    # \"DOW INC\",\n",
    "    # \"CORTEVA INC\",\n",
    "    # \"OCCIDENTAL PETROLEUM CORP\",\n",
    "    # \"ONEOK INC\",\n",
    "    # \"CHEVRON CORP\",\n",
    "    # \"PIONEER NATURAL RESOURCES CO\",\n",
    "    # \"TARGA RESOURCES CORP\",\n",
    "    # \"SCHLUMBERGER LTD\",\n",
    "    # \"BAKER HUGHES CO\",\n",
    "    # \"DEVON ENERGY CORP\",\n",
    "    # \"HESS CORP\",\n",
    "    # \"MARATHON OIL CORP\",\n",
    "    # \"WILLIAMS COS INC\",\n",
    "    # \"COTERRA ENERGY INC\",\n",
    "    # \"APA CORP\",\n",
    "    # \"EOG RESOURCES INC\",\n",
    "    # \"KINDER MORGAN INC\",\n",
    "    # \"EQT CORP\",\n",
    "    # \"HALLIBURTON CO\",\n",
    "    # \"DIAMONDBACK ENERGY INC\",\n",
    "]"
   ]
  }
 ],
 "metadata": {
  "kernelspec": {
   "display_name": ".env",
   "language": "python",
   "name": "python3"
  },
  "language_info": {
   "codemirror_mode": {
    "name": "ipython",
    "version": 3
   },
   "file_extension": ".py",
   "mimetype": "text/x-python",
   "name": "python",
   "nbconvert_exporter": "python",
   "pygments_lexer": "ipython3",
   "version": "3.11.7"
  }
 },
 "nbformat": 4,
 "nbformat_minor": 2
}
